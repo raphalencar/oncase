{
 "cells": [
  {
   "cell_type": "code",
   "execution_count": 1,
   "metadata": {},
   "outputs": [],
   "source": [
    "import pymongo"
   ]
  },
  {
   "cell_type": "code",
   "execution_count": 3,
   "metadata": {},
   "outputs": [
    {
     "data": {
      "text/plain": [
       "MongoClient(host=['localhost:27017'], document_class=dict, tz_aware=False, connect=True)"
      ]
     },
     "execution_count": 3,
     "metadata": {},
     "output_type": "execute_result"
    }
   ],
   "source": [
    "client = pymongo.MongoClient('localhost')\n",
    "client"
   ]
  },
  {
   "cell_type": "code",
   "execution_count": 4,
   "metadata": {},
   "outputs": [],
   "source": [
    "news = client.news.tc_news"
   ]
  },
  {
   "cell_type": "code",
   "execution_count": 5,
   "metadata": {},
   "outputs": [
    {
     "data": {
      "text/plain": [
       "{'_id': ObjectId('5dae54c8ca5a6838362585dd'),\n",
       " 'link': 'https://tecnoblog.net/310958/windows-10-impede-desativar-antivirus-defender-protecao-contra-violacoes/',\n",
       " 'author': 'Felipe Ventura',\n",
       " 'date': '14/10/2019',\n",
       " 'tag': ['Windows 10', 'Windows Defender'],\n",
       " 'text': 'O Windows 10 vem com um antivírus nativo chamado Windows Defender: ele não é o mais eficaz do mercado, mas pode ser o suficiente caso você tome cuidado com os arquivos que executa no PC. Daqui em diante, ele ficará mais seguro: a Microsoft está ativando por padrão a Proteção contra Violações, que impede malwares de desativá-lo.A Microsoft confirma ao Bleeping Computer que vai ativar a Proteção contra Violações (Tamper Protection) em todos os PCs com Windows 10 May 2019 Update ou mais recente. Pode demorar alguns dias, mas isso se tornará padrão nos computadores com essas versões do sistema.O recurso, lançado na atualização de maio de 2019, exige que qualquer mudança no funcionamento do Windows Defender seja feita somente através do aplicativo Segurança do Windows. No caso de empresas, também é possível usar software de gerenciamento corporativo como o Microsoft Intune.Não será possível fazer ajustes através de edições no Registro, scripts do PowerShell nem políticas de grupo. Isso significa que, quando um malware tentar desativar o Windows Defender através de código malicioso, ele será barrado. Isso deve impedir a atividade de alguns trojans recentes, como o TrickBot, GootKit e Nodersok.Para ativar manualmente a Proteção contra Violações, faça o seguinte:Ainda será possível desativar a Proteção contra Violações, mas isso não é recomendável. Vale lembrar que, se você instalar outro antivírus, o Windows Defender será desativado para evitar conflitos; neste caso, valerão as configurações de segurança do programa que você instalar.Com informações: Microsoft, Bleeping Computer.Leia o post inteiro antes de comentare seja legal com seus amiguinhos.',\n",
       " 'title': 'Windows 10 agora impede que malwares desativem antivírus nativo'}"
      ]
     },
     "execution_count": 5,
     "metadata": {},
     "output_type": "execute_result"
    }
   ],
   "source": [
    "news.find_one()"
   ]
  },
  {
   "cell_type": "code",
   "execution_count": 6,
   "metadata": {},
   "outputs": [],
   "source": [
    "import pandas as pd"
   ]
  },
  {
   "cell_type": "code",
   "execution_count": 7,
   "metadata": {},
   "outputs": [],
   "source": [
    "cursor = news.find()\n",
    "entries = list(cursor)"
   ]
  },
  {
   "cell_type": "code",
   "execution_count": 8,
   "metadata": {},
   "outputs": [
    {
     "data": {
      "text/html": [
       "<div>\n",
       "<style scoped>\n",
       "    .dataframe tbody tr th:only-of-type {\n",
       "        vertical-align: middle;\n",
       "    }\n",
       "\n",
       "    .dataframe tbody tr th {\n",
       "        vertical-align: top;\n",
       "    }\n",
       "\n",
       "    .dataframe thead th {\n",
       "        text-align: right;\n",
       "    }\n",
       "</style>\n",
       "<table border=\"1\" class=\"dataframe\">\n",
       "  <thead>\n",
       "    <tr style=\"text-align: right;\">\n",
       "      <th></th>\n",
       "      <th>_id</th>\n",
       "      <th>author</th>\n",
       "      <th>date</th>\n",
       "      <th>link</th>\n",
       "      <th>tag</th>\n",
       "      <th>text</th>\n",
       "      <th>title</th>\n",
       "    </tr>\n",
       "  </thead>\n",
       "  <tbody>\n",
       "    <tr>\n",
       "      <th>0</th>\n",
       "      <td>5dae54c8ca5a6838362585dd</td>\n",
       "      <td>Felipe Ventura</td>\n",
       "      <td>14/10/2019</td>\n",
       "      <td>https://tecnoblog.net/310958/windows-10-impede...</td>\n",
       "      <td>[Windows 10, Windows Defender]</td>\n",
       "      <td>O Windows 10 vem com um antivírus nativo chama...</td>\n",
       "      <td>Windows 10 agora impede que malwares desativem...</td>\n",
       "    </tr>\n",
       "    <tr>\n",
       "      <th>1</th>\n",
       "      <td>5dae54c9ca5a6838362585df</td>\n",
       "      <td>Victor Hugo Silva</td>\n",
       "      <td>14/10/2019</td>\n",
       "      <td>https://tecnoblog.net/310933/mercado-pago-reti...</td>\n",
       "      <td>[Libra, Libra Association, Mercado Pago]</td>\n",
       "      <td>O Facebook perdeu mais um parceiro no desenvol...</td>\n",
       "      <td>Mercado Pago também retira apoio à criptomoeda...</td>\n",
       "    </tr>\n",
       "    <tr>\n",
       "      <th>2</th>\n",
       "      <td>5dae54c9ca5a6838362585e1</td>\n",
       "      <td>Lucas Lima</td>\n",
       "      <td>14/10/2019</td>\n",
       "      <td>https://tecnoblog.net/310912/xiaomi-prepara-ce...</td>\n",
       "      <td>[Xiaomi]</td>\n",
       "      <td>A Xiaomi deve lançar em breve um smartphone co...</td>\n",
       "      <td>Xiaomi prepara celulares com tela de 120 Hz e ...</td>\n",
       "    </tr>\n",
       "    <tr>\n",
       "      <th>3</th>\n",
       "      <td>5dae54c9ca5a6838362585e3</td>\n",
       "      <td>Emerson Alecrim</td>\n",
       "      <td>14/10/2019</td>\n",
       "      <td>https://tecnoblog.net/310900/google-pay-anunci...</td>\n",
       "      <td>[Android, cartão de débito, Google, Google Pay]</td>\n",
       "      <td>O Google anunciou nesta segunda-feira (14) uma...</td>\n",
       "      <td>Google Pay agora aceita cartão de débito em co...</td>\n",
       "    </tr>\n",
       "    <tr>\n",
       "      <th>4</th>\n",
       "      <td>5dae54c9ca5a6838362585e5</td>\n",
       "      <td>Felipe Ventura</td>\n",
       "      <td>14/10/2019</td>\n",
       "      <td>https://tecnoblog.net/310937/uber-demite-350-f...</td>\n",
       "      <td>[carro autônomo, carros autônomos, Uber, Uber ...</td>\n",
       "      <td>A Uber realizou mais uma rodada de demissões: ...</td>\n",
       "      <td>Uber demite 350 funcionários nas divisões do E...</td>\n",
       "    </tr>\n",
       "  </tbody>\n",
       "</table>\n",
       "</div>"
      ],
      "text/plain": [
       "                        _id             author        date  \\\n",
       "0  5dae54c8ca5a6838362585dd     Felipe Ventura  14/10/2019   \n",
       "1  5dae54c9ca5a6838362585df  Victor Hugo Silva  14/10/2019   \n",
       "2  5dae54c9ca5a6838362585e1         Lucas Lima  14/10/2019   \n",
       "3  5dae54c9ca5a6838362585e3    Emerson Alecrim  14/10/2019   \n",
       "4  5dae54c9ca5a6838362585e5     Felipe Ventura  14/10/2019   \n",
       "\n",
       "                                                link  \\\n",
       "0  https://tecnoblog.net/310958/windows-10-impede...   \n",
       "1  https://tecnoblog.net/310933/mercado-pago-reti...   \n",
       "2  https://tecnoblog.net/310912/xiaomi-prepara-ce...   \n",
       "3  https://tecnoblog.net/310900/google-pay-anunci...   \n",
       "4  https://tecnoblog.net/310937/uber-demite-350-f...   \n",
       "\n",
       "                                                 tag  \\\n",
       "0                     [Windows 10, Windows Defender]   \n",
       "1           [Libra, Libra Association, Mercado Pago]   \n",
       "2                                           [Xiaomi]   \n",
       "3    [Android, cartão de débito, Google, Google Pay]   \n",
       "4  [carro autônomo, carros autônomos, Uber, Uber ...   \n",
       "\n",
       "                                                text  \\\n",
       "0  O Windows 10 vem com um antivírus nativo chama...   \n",
       "1  O Facebook perdeu mais um parceiro no desenvol...   \n",
       "2  A Xiaomi deve lançar em breve um smartphone co...   \n",
       "3  O Google anunciou nesta segunda-feira (14) uma...   \n",
       "4  A Uber realizou mais uma rodada de demissões: ...   \n",
       "\n",
       "                                               title  \n",
       "0  Windows 10 agora impede que malwares desativem...  \n",
       "1  Mercado Pago também retira apoio à criptomoeda...  \n",
       "2  Xiaomi prepara celulares com tela de 120 Hz e ...  \n",
       "3  Google Pay agora aceita cartão de débito em co...  \n",
       "4  Uber demite 350 funcionários nas divisões do E...  "
      ]
     },
     "execution_count": 8,
     "metadata": {},
     "output_type": "execute_result"
    }
   ],
   "source": [
    "df = pd.DataFrame(entries)\n",
    "df.head()"
   ]
  },
  {
   "cell_type": "code",
   "execution_count": 9,
   "metadata": {},
   "outputs": [
    {
     "data": {
      "text/plain": [
       "(44, 7)"
      ]
     },
     "execution_count": 9,
     "metadata": {},
     "output_type": "execute_result"
    }
   ],
   "source": [
    "df.shape"
   ]
  },
  {
   "cell_type": "code",
   "execution_count": 10,
   "metadata": {},
   "outputs": [
    {
     "data": {
      "text/html": [
       "<div>\n",
       "<style scoped>\n",
       "    .dataframe tbody tr th:only-of-type {\n",
       "        vertical-align: middle;\n",
       "    }\n",
       "\n",
       "    .dataframe tbody tr th {\n",
       "        vertical-align: top;\n",
       "    }\n",
       "\n",
       "    .dataframe thead th {\n",
       "        text-align: right;\n",
       "    }\n",
       "</style>\n",
       "<table border=\"1\" class=\"dataframe\">\n",
       "  <thead>\n",
       "    <tr style=\"text-align: right;\">\n",
       "      <th></th>\n",
       "      <th>_id</th>\n",
       "      <th>author</th>\n",
       "      <th>date</th>\n",
       "      <th>link</th>\n",
       "      <th>tag</th>\n",
       "      <th>text</th>\n",
       "      <th>title</th>\n",
       "    </tr>\n",
       "  </thead>\n",
       "  <tbody>\n",
       "    <tr>\n",
       "      <th>39</th>\n",
       "      <td>5dae54caca5a68383625862c</td>\n",
       "      <td>Victor Hugo Silva</td>\n",
       "      <td>11/10/2019</td>\n",
       "      <td>https://tecnoblog.net/310829/facebook-libra-pe...</td>\n",
       "      <td>[Calibra, Facebook, Libra, Libra Association]</td>\n",
       "      <td>Uma semana após o PayPal deixar o projeto do L...</td>\n",
       "      <td>Facebook Libra perde apoio de Visa, Mastercard...</td>\n",
       "    </tr>\n",
       "    <tr>\n",
       "      <th>40</th>\n",
       "      <td>5dae54caca5a68383625862e</td>\n",
       "      <td>Victor Hugo Silva</td>\n",
       "      <td>11/10/2019</td>\n",
       "      <td>https://tecnoblog.net/310782/governadores-suge...</td>\n",
       "      <td>[imposto, impostos]</td>\n",
       "      <td>O Fórum Nacional dos Governadores reuniu nesta...</td>\n",
       "      <td>Governadores sugerem taxar games vendidos pela...</td>\n",
       "    </tr>\n",
       "    <tr>\n",
       "      <th>41</th>\n",
       "      <td>5dae54caca5a683836258630</td>\n",
       "      <td>André Luis Dias Custodio</td>\n",
       "      <td>21/10/2019</td>\n",
       "      <td>https://www.tecmundo.com.br/produto/146933-det...</td>\n",
       "      <td>[ Produto ,  PS5 ,  Video Game e Jogos ]</td>\n",
       "      <td>Poucos dias após o anúncio oficial da Sony sob...</td>\n",
       "      <td>Detalhes do Playstation 5 segundo análise do D...</td>\n",
       "    </tr>\n",
       "    <tr>\n",
       "      <th>42</th>\n",
       "      <td>5dae54caca5a683836258632</td>\n",
       "      <td>André Luiz Pereira</td>\n",
       "      <td>21/10/2019</td>\n",
       "      <td>https://www.tecmundo.com.br/produto/146980-kit...</td>\n",
       "      <td>[ Produto ,  Promoção ,  Jogos ]</td>\n",
       "      <td>Ter um bom equipamento para se conectar em jog...</td>\n",
       "      <td>Kit com headset e mouse gamer a partir de R$ 81</td>\n",
       "    </tr>\n",
       "    <tr>\n",
       "      <th>43</th>\n",
       "      <td>5dae54caca5a683836258635</td>\n",
       "      <td>Felipe Ventura</td>\n",
       "      <td>14/10/2019</td>\n",
       "      <td>https://tecnoblog.net/310861/samsung-galaxy-s1...</td>\n",
       "      <td>[Android, Android 10, Android Q, One UI, Samsu...</td>\n",
       "      <td>A Samsung disse que testaria o Android 10 com ...</td>\n",
       "      <td>Samsung Galaxy S10, S10+ e S10e recebem Androi...</td>\n",
       "    </tr>\n",
       "  </tbody>\n",
       "</table>\n",
       "</div>"
      ],
      "text/plain": [
       "                         _id                    author        date  \\\n",
       "39  5dae54caca5a68383625862c         Victor Hugo Silva  11/10/2019   \n",
       "40  5dae54caca5a68383625862e         Victor Hugo Silva  11/10/2019   \n",
       "41  5dae54caca5a683836258630  André Luis Dias Custodio  21/10/2019   \n",
       "42  5dae54caca5a683836258632        André Luiz Pereira  21/10/2019   \n",
       "43  5dae54caca5a683836258635            Felipe Ventura  14/10/2019   \n",
       "\n",
       "                                                 link  \\\n",
       "39  https://tecnoblog.net/310829/facebook-libra-pe...   \n",
       "40  https://tecnoblog.net/310782/governadores-suge...   \n",
       "41  https://www.tecmundo.com.br/produto/146933-det...   \n",
       "42  https://www.tecmundo.com.br/produto/146980-kit...   \n",
       "43  https://tecnoblog.net/310861/samsung-galaxy-s1...   \n",
       "\n",
       "                                                  tag  \\\n",
       "39      [Calibra, Facebook, Libra, Libra Association]   \n",
       "40                                [imposto, impostos]   \n",
       "41           [ Produto ,  PS5 ,  Video Game e Jogos ]   \n",
       "42                   [ Produto ,  Promoção ,  Jogos ]   \n",
       "43  [Android, Android 10, Android Q, One UI, Samsu...   \n",
       "\n",
       "                                                 text  \\\n",
       "39  Uma semana após o PayPal deixar o projeto do L...   \n",
       "40  O Fórum Nacional dos Governadores reuniu nesta...   \n",
       "41  Poucos dias após o anúncio oficial da Sony sob...   \n",
       "42  Ter um bom equipamento para se conectar em jog...   \n",
       "43  A Samsung disse que testaria o Android 10 com ...   \n",
       "\n",
       "                                                title  \n",
       "39  Facebook Libra perde apoio de Visa, Mastercard...  \n",
       "40  Governadores sugerem taxar games vendidos pela...  \n",
       "41  Detalhes do Playstation 5 segundo análise do D...  \n",
       "42    Kit com headset e mouse gamer a partir de R$ 81  \n",
       "43  Samsung Galaxy S10, S10+ e S10e recebem Androi...  "
      ]
     },
     "execution_count": 10,
     "metadata": {},
     "output_type": "execute_result"
    }
   ],
   "source": [
    "df.tail()"
   ]
  }
 ],
 "metadata": {
  "kernelspec": {
   "display_name": "Python 3",
   "language": "python",
   "name": "python3"
  },
  "language_info": {
   "codemirror_mode": {
    "name": "ipython",
    "version": 3
   },
   "file_extension": ".py",
   "mimetype": "text/x-python",
   "name": "python",
   "nbconvert_exporter": "python",
   "pygments_lexer": "ipython3",
   "version": "3.7.1"
  }
 },
 "nbformat": 4,
 "nbformat_minor": 2
}
