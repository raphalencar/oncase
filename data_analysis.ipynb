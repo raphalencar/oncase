{
 "cells": [
  {
   "cell_type": "markdown",
   "metadata": {},
   "source": [
    "## Oncase Exploratory Data Analysis\n",
    "\n",
    "Análise dos dados extraídos a partir do crawler nos blogs **Tecmundo** e **Tecnoblog**. \n",
    "\n",
    "Os dados foram armazendos em uma base local com MongoDB:\n",
    "<br>\n",
    "**database**: news\n",
    "<br>\n",
    "**collection**: tc_news\n",
    "\n",
    "Cada registro é composto por 8 colunas, sendo elas:\n",
    "* **_id**: Id gerado pelo MongoDB\n",
    "* **link**: Url do artigo\n",
    "* **author**: Nome do autor do artigo\n",
    "* **blog**: Nome do blog ao qual o artigo pertence\n",
    "* **date**: Data de publicação\n",
    "* **tag**: Lista de tags utilizadas \n",
    "* **text**: Corpo do texto do artigo\n",
    "* **title**: Titulo do artigo"
   ]
  },
  {
   "cell_type": "code",
   "execution_count": 191,
   "metadata": {},
   "outputs": [],
   "source": [
    "import pymongo\n",
    "import pandas as pd\n",
    "import numpy as np\n",
    "import seaborn as sns\n",
    "from scipy.stats import iqr\n",
    "import matplotlib.pyplot as plt\n",
    "%matplotlib inline"
   ]
  },
  {
   "cell_type": "code",
   "execution_count": 133,
   "metadata": {},
   "outputs": [],
   "source": [
    "# get mongodb collection\n",
    "client = pymongo.MongoClient('localhost', 27017)\n",
    "articles = client.news.tc_news"
   ]
  },
  {
   "cell_type": "code",
   "execution_count": 134,
   "metadata": {},
   "outputs": [
    {
     "data": {
      "text/plain": [
       "{'_id': ObjectId('5daf03731dd466f533340c25'),\n",
       " 'link': 'https://tecnoblog.net/311651/facebook-instagram-sinalizar-noticias-falsas-posts-stories/',\n",
       " 'author': 'Felipe Ventura',\n",
       " 'blog': 'Tecnoblog',\n",
       " 'date': '22/10/2019',\n",
       " 'tag': 'Facebook,Fake news,Instagram,Notícias falsas',\n",
       " 'text': 'O Facebook e o Instagram deixarão mais claro quando uma notícia falsa for postada no feed ou nos Stories: se a foto ou o vídeo tiver conteúdo considerado falso por uma agência independente de checagem de fatos, ele será borrado e terá o aviso de que a informação não procede. E quem tentar postar esse tipo de conteúdo receberá um aviso de que se trata de fake news, com links para saber mais a respeito. As novas medidas antecipam as eleições presidenciais de 2020 nos EUA.Ao longo do próximo mês, o Facebook e o Instagram vão rotular com mais destaque o conteúdo “que tenha sido marcado como falso ou parcialmente falso por uma agência de checagem de fatos independente parceira”, conforme explica a empresa em comunicado.O rótulo de “informação falsa” será mostrado por cima de fotos e vídeos, inclusive no Instagram Stories; e terá um link para a agência de checagem de fatos desmentindo a fake news.Além disso, se um usuário tentar publicar uma foto ou vídeo com informação falsa, ele será alertado com um novo pop-up. Haverá o link para a agência de checagem de notícias, e o aviso de que o post vai incluir um aviso dizendo que é falso. Será possível compartilhar o post mesmo assim.Resta ver se isso será eficaz. O Facebook já tentou colocar um aviso em posts que linkam para notícias falsas, só que eles acabavam sendo mais compartilhados — o sinal de alerta para fake news chamava a atenção dos usuários, aumentando o engajamento.Conferir se uma notícia é ou não verdadeira consome tempo. Até a agência de checagem desmentir uma fake news, ela pode ter se espalhado. Por isso, o Facebook vai reduzir temporariamente a distribuição de posts que tiverem sinais de conteúdo falso, enquanto a verificação for feita para checar os fatos. Isso vai ocorrer “em muitos países”, incluindo os EUA.Notícias comprovadamente falsas têm distribuição reduzida no feed de notícias do Facebook, e são removidas da aba Explorar e das hashtags no Instagram. As duas redes sociais também diminuem o alcance de contas que publicam desinformação repetidamente.No entanto, o Facebook não vai checar fatos de anúncios políticos, nem vai removê-los da plataforma. É uma posição que o próprio CEO, Mark Zuckerberg, defendeu na semana passada.O Facebook vai avisar quando uma notícia vier de uma organização totalmente ou parcialmente controlada pelo governo de um país. A definição foi criada com a contribuição de mais de 40 especialistas, e permitiu criar uma lista chamada “mídia controlada por Estado”. No início de 2020, o aviso deve aparecer também no Instagram.O Facebook não quer ser acusado mais uma vez de interferência nas eleições dos EUA. A IRA (Internet Research Agency) reuniu “trolls profissionais” para usar redes sociais a fim de apoiar ações da Rússia na Ucrânia; ela também “começou a defender o presidente eleito [Donald] Trump desde pelo menos dezembro de 2015”, diz um relatório da CI (Comunidade de Inteligência dos Estados Unidos).Um estudo divulgado pelo Senado dos EUA encontrou evidências de interferência eleitoral vinda da Rússia através do Facebook, Instagram, YouTube, Twitter e Tumblr. Isso teria sido feito pela IRA, que tem ligações com o governo de Vladimir Putin.Com informações: Facebook.Leia o post inteiro antes de comentare seja legal com seus amiguinhos.',\n",
       " 'title': 'Facebook e Instagram vão sinalizar notícias falsas em posts e Stories'}"
      ]
     },
     "execution_count": 134,
     "metadata": {},
     "output_type": "execute_result"
    }
   ],
   "source": [
    "articles.find_one()"
   ]
  },
  {
   "cell_type": "code",
   "execution_count": 135,
   "metadata": {},
   "outputs": [],
   "source": [
    "# entradas para criação do dataFrame\n",
    "cursor = articles.find()\n",
    "entries = list(cursor)"
   ]
  },
  {
   "cell_type": "code",
   "execution_count": 317,
   "metadata": {},
   "outputs": [
    {
     "data": {
      "text/html": [
       "<div>\n",
       "<style scoped>\n",
       "    .dataframe tbody tr th:only-of-type {\n",
       "        vertical-align: middle;\n",
       "    }\n",
       "\n",
       "    .dataframe tbody tr th {\n",
       "        vertical-align: top;\n",
       "    }\n",
       "\n",
       "    .dataframe thead th {\n",
       "        text-align: right;\n",
       "    }\n",
       "</style>\n",
       "<table border=\"1\" class=\"dataframe\">\n",
       "  <thead>\n",
       "    <tr style=\"text-align: right;\">\n",
       "      <th></th>\n",
       "      <th>_id</th>\n",
       "      <th>author</th>\n",
       "      <th>blog</th>\n",
       "      <th>date</th>\n",
       "      <th>link</th>\n",
       "      <th>tag</th>\n",
       "      <th>text</th>\n",
       "      <th>title</th>\n",
       "    </tr>\n",
       "  </thead>\n",
       "  <tbody>\n",
       "    <tr>\n",
       "      <th>0</th>\n",
       "      <td>5daf03731dd466f533340c25</td>\n",
       "      <td>Felipe Ventura</td>\n",
       "      <td>Tecnoblog</td>\n",
       "      <td>22/10/2019</td>\n",
       "      <td>https://tecnoblog.net/311651/facebook-instagra...</td>\n",
       "      <td>Facebook,Fake news,Instagram,Notícias falsas</td>\n",
       "      <td>O Facebook e o Instagram deixarão mais claro q...</td>\n",
       "      <td>Facebook e Instagram vão sinalizar notícias fa...</td>\n",
       "    </tr>\n",
       "    <tr>\n",
       "      <th>1</th>\n",
       "      <td>5daf03731dd466f533340c27</td>\n",
       "      <td>Felipe Ventura</td>\n",
       "      <td>Tecnoblog</td>\n",
       "      <td>18/10/2019</td>\n",
       "      <td>https://tecnoblog.net/311574/google-evitar-pro...</td>\n",
       "      <td>Android,Google,horário de verão</td>\n",
       "      <td>O horário de verão não será aplicado em 2019 n...</td>\n",
       "      <td>Google ensina a evitar problemas no Android co...</td>\n",
       "    </tr>\n",
       "    <tr>\n",
       "      <th>2</th>\n",
       "      <td>5daf03731dd466f533340c29</td>\n",
       "      <td>Lucas Lima</td>\n",
       "      <td>Tecnoblog</td>\n",
       "      <td>18/10/2019</td>\n",
       "      <td>https://tecnoblog.net/311599/samsung-galaxy-s1...</td>\n",
       "      <td>Samsung,Samsung Galaxy Note,Samsung Galaxy Not...</td>\n",
       "      <td>A Samsung prometeu para o início da próxima se...</td>\n",
       "      <td>Samsung orienta donos do Galaxy S10 e Note 10 ...</td>\n",
       "    </tr>\n",
       "    <tr>\n",
       "      <th>3</th>\n",
       "      <td>5daf03731dd466f533340c2b</td>\n",
       "      <td>Lucas Lima</td>\n",
       "      <td>Tecnoblog</td>\n",
       "      <td>18/10/2019</td>\n",
       "      <td>https://tecnoblog.net/311583/apple-deve-lancar...</td>\n",
       "      <td>AirPods,Apple,Apple AirPods,Apple AirPods Pro</td>\n",
       "      <td>A Apple pode estar se preparando para lançar, ...</td>\n",
       "      <td>Apple deve lançar AirPods Pro com cancelamento...</td>\n",
       "    </tr>\n",
       "    <tr>\n",
       "      <th>4</th>\n",
       "      <td>5daf03731dd466f533340c2d</td>\n",
       "      <td>André Fogaça</td>\n",
       "      <td>Tecnoblog</td>\n",
       "      <td>18/10/2019</td>\n",
       "      <td>https://tecnoblog.net/311559/google-maps-ganha...</td>\n",
       "      <td>Google Maps</td>\n",
       "      <td>O Google anunciou nesta quinta-feira (17) que ...</td>\n",
       "      <td>Google Maps ganha recursos do Waze e permite i...</td>\n",
       "    </tr>\n",
       "  </tbody>\n",
       "</table>\n",
       "</div>"
      ],
      "text/plain": [
       "                        _id          author       blog        date  \\\n",
       "0  5daf03731dd466f533340c25  Felipe Ventura  Tecnoblog  22/10/2019   \n",
       "1  5daf03731dd466f533340c27  Felipe Ventura  Tecnoblog  18/10/2019   \n",
       "2  5daf03731dd466f533340c29      Lucas Lima  Tecnoblog  18/10/2019   \n",
       "3  5daf03731dd466f533340c2b      Lucas Lima  Tecnoblog  18/10/2019   \n",
       "4  5daf03731dd466f533340c2d    André Fogaça  Tecnoblog  18/10/2019   \n",
       "\n",
       "                                                link  \\\n",
       "0  https://tecnoblog.net/311651/facebook-instagra...   \n",
       "1  https://tecnoblog.net/311574/google-evitar-pro...   \n",
       "2  https://tecnoblog.net/311599/samsung-galaxy-s1...   \n",
       "3  https://tecnoblog.net/311583/apple-deve-lancar...   \n",
       "4  https://tecnoblog.net/311559/google-maps-ganha...   \n",
       "\n",
       "                                                 tag  \\\n",
       "0       Facebook,Fake news,Instagram,Notícias falsas   \n",
       "1                    Android,Google,horário de verão   \n",
       "2  Samsung,Samsung Galaxy Note,Samsung Galaxy Not...   \n",
       "3      AirPods,Apple,Apple AirPods,Apple AirPods Pro   \n",
       "4                                        Google Maps   \n",
       "\n",
       "                                                text  \\\n",
       "0  O Facebook e o Instagram deixarão mais claro q...   \n",
       "1  O horário de verão não será aplicado em 2019 n...   \n",
       "2  A Samsung prometeu para o início da próxima se...   \n",
       "3  A Apple pode estar se preparando para lançar, ...   \n",
       "4  O Google anunciou nesta quinta-feira (17) que ...   \n",
       "\n",
       "                                               title  \n",
       "0  Facebook e Instagram vão sinalizar notícias fa...  \n",
       "1  Google ensina a evitar problemas no Android co...  \n",
       "2  Samsung orienta donos do Galaxy S10 e Note 10 ...  \n",
       "3  Apple deve lançar AirPods Pro com cancelamento...  \n",
       "4  Google Maps ganha recursos do Waze e permite i...  "
      ]
     },
     "execution_count": 317,
     "metadata": {},
     "output_type": "execute_result"
    }
   ],
   "source": [
    "df = pd.DataFrame(entries)\n",
    "df.head()"
   ]
  },
  {
   "cell_type": "code",
   "execution_count": 137,
   "metadata": {},
   "outputs": [
    {
     "name": "stdout",
     "output_type": "stream",
     "text": [
      "<class 'pandas.core.frame.DataFrame'>\n",
      "RangeIndex: 2399 entries, 0 to 2398\n",
      "Data columns (total 8 columns):\n",
      "_id       2399 non-null object\n",
      "author    2374 non-null object\n",
      "blog      2399 non-null object\n",
      "date      2115 non-null object\n",
      "link      2399 non-null object\n",
      "tag       2394 non-null object\n",
      "text      2399 non-null object\n",
      "title     2399 non-null object\n",
      "dtypes: object(8)\n",
      "memory usage: 150.0+ KB\n"
     ]
    }
   ],
   "source": [
    "df.info()"
   ]
  },
  {
   "cell_type": "markdown",
   "metadata": {},
   "source": [
    "A base de dados possui um total de **2399** artigos, alguns deles com dados faltantes como o nome do autor, a data de publicação e tag."
   ]
  },
  {
   "cell_type": "code",
   "execution_count": 148,
   "metadata": {},
   "outputs": [
    {
     "name": "stdout",
     "output_type": "stream",
     "text": [
      "Artigos sem o nome do autor:  25\n",
      "Artigos sem a data de publicação:  284\n",
      "Artigos sem tag:  5\n"
     ]
    }
   ],
   "source": [
    "print('Artigos sem o nome do autor: ', df['author'].isna().sum())\n",
    "print('Artigos sem a data de publicação: ', df['date'].isna().sum())\n",
    "print('Artigos sem tag: ', df['tag'].isna().sum())"
   ]
  },
  {
   "cell_type": "code",
   "execution_count": 318,
   "metadata": {},
   "outputs": [
    {
     "data": {
      "text/plain": [
       "pandas.core.series.Series"
      ]
     },
     "execution_count": 318,
     "metadata": {},
     "output_type": "execute_result"
    }
   ],
   "source": [
    "# transformando a coluna tag em lista\n",
    "# df['tag'] = df['tag'].str.split(\",\")\n",
    "type(df['tag'])"
   ]
  },
  {
   "cell_type": "code",
   "execution_count": 149,
   "metadata": {},
   "outputs": [
    {
     "data": {
      "text/plain": [
       "Index(['author', 'blog', 'date', 'link', 'tag', 'text', 'title'], dtype='object')"
      ]
     },
     "execution_count": 149,
     "metadata": {},
     "output_type": "execute_result"
    }
   ],
   "source": [
    "# removendo a coluna _id, pois não será utilizada na análise\n",
    "df.drop('_id', axis=1, inplace=True)\n",
    "df.columns"
   ]
  },
  {
   "cell_type": "markdown",
   "metadata": {},
   "source": [
    "#### author"
   ]
  },
  {
   "cell_type": "code",
   "execution_count": 152,
   "metadata": {},
   "outputs": [
    {
     "name": "stdout",
     "output_type": "stream",
     "text": [
      "Número de autores diferentes:  71\n"
     ]
    }
   ],
   "source": [
    "print('Número de autores diferentes: ', df['author'].nunique())"
   ]
  },
  {
   "cell_type": "code",
   "execution_count": 205,
   "metadata": {},
   "outputs": [
    {
     "data": {
      "image/png": "[encoded data removed]",
      "text/plain": [
       "<Figure size 1152x576 with 1 Axes>"
      ]
     },
     "metadata": {
      "needs_background": "light"
     },
     "output_type": "display_data"
    }
   ],
   "source": [
    "# número de artigos por autor\n",
    "plt.figure(figsize=(16, 8))\n",
    "authors = df['author'].value_counts()\n",
    "sns.barplot(x=authors.index, y=authors)\n",
    "plt.ylabel('Nº de artigos escritos')\n",
    "plt.xticks(rotation=90)\n",
    "plt.show()"
   ]
  },
  {
   "cell_type": "code",
   "execution_count": 187,
   "metadata": {},
   "outputs": [
    {
     "data": {
      "text/plain": [
       "count     71.000000\n",
       "mean      33.436620\n",
       "std       64.159785\n",
       "min        1.000000\n",
       "25%        1.000000\n",
       "50%        4.000000\n",
       "75%       28.500000\n",
       "max      331.000000\n",
       "Name: author, dtype: float64"
      ]
     },
     "execution_count": 187,
     "metadata": {},
     "output_type": "execute_result"
    }
   ],
   "source": [
    "# descrevendo pontos estatísticos\n",
    "authors.describe()"
   ]
  },
  {
   "cell_type": "markdown",
   "metadata": {},
   "source": [
    "De acordo com os valores estatísticos, temos uma média de 33 artigos por autor, até 25% dos autores escreveu apenas 1 artigos, até 50% escreveu 4 artigos e até 75% escreveu 28 artigos. Além disso, percebesse que temos um autor que escreveu 331 artigos, um número bem significativo em relação aos outros."
   ]
  },
  {
   "cell_type": "code",
   "execution_count": 190,
   "metadata": {},
   "outputs": [
    {
     "data": {
      "text/plain": [
       "<matplotlib.axes._subplots.AxesSubplot at 0x7efffa91d550>"
      ]
     },
     "execution_count": 190,
     "metadata": {},
     "output_type": "execute_result"
    },
    {
     "data": {
      "image/png": "[encoded data removed]",
      "text/plain": [
       "<Figure size 432x288 with 1 Axes>"
      ]
     },
     "metadata": {
      "needs_background": "light"
     },
     "output_type": "display_data"
    }
   ],
   "source": [
    "# Verificando outliers\n",
    "sns.boxplot(y=authors)"
   ]
  },
  {
   "cell_type": "code",
   "execution_count": 201,
   "metadata": {},
   "outputs": [
    {
     "data": {
      "text/plain": [
       "[331, 256, 204, 192, 158, 128, 112, 107, 92, 89, 87, 81, 74, 69]"
      ]
     },
     "execution_count": 201,
     "metadata": {},
     "output_type": "execute_result"
    }
   ],
   "source": [
    "# considerando outliers os valores \n",
    "# que estão além da faixa -1.5 x IQR to 1.5 x IQR\n",
    "# sendo IQR (distância interquartil)\n",
    "outliers = [ol for ol in authors.values if (ol > 1.5*iqr(authors)) or (ol < -1.5*iqr(authors))]\n",
    "outliers"
   ]
  },
  {
   "cell_type": "code",
   "execution_count": 204,
   "metadata": {},
   "outputs": [
    {
     "name": "stdout",
     "output_type": "stream",
     "text": [
      "Temos um total de 14 outliers.\n"
     ]
    }
   ],
   "source": [
    "print('Temos um total de {} outliers.'.format(len(outliers)))"
   ]
  },
  {
   "cell_type": "code",
   "execution_count": 281,
   "metadata": {},
   "outputs": [
    {
     "data": {
      "text/plain": [
       "blog\n",
       "Tecmundo     61\n",
       "Tecnoblog    10\n",
       "Name: author, dtype: int64"
      ]
     },
     "execution_count": 281,
     "metadata": {},
     "output_type": "execute_result"
    }
   ],
   "source": [
    "# agrupando autores por blog\n",
    "author_per_blog = df.groupby(['blog'])['author'].nunique()\n",
    "author_per_blog"
   ]
  },
  {
   "cell_type": "code",
   "execution_count": 286,
   "metadata": {},
   "outputs": [
    {
     "data": {
      "image/png": "[encoded data removed]",
      "text/plain": [
       "<Figure size 432x288 with 1 Axes>"
      ]
     },
     "metadata": {},
     "output_type": "display_data"
    }
   ],
   "source": [
    "plt.pie(author_per_blog.values, labels=author_per_blog.index, autopct='%1.1f%%')\n",
    "plt.show()"
   ]
  },
  {
   "cell_type": "markdown",
   "metadata": {},
   "source": [
    "Pelo gráfico percebemos que o **Tecmundo** possui mais autores do que o Tecnoblog, sendo **85.9% do total de autores** (71 no total) da base de dados."
   ]
  },
  {
   "cell_type": "markdown",
   "metadata": {},
   "source": [
    "#### blog"
   ]
  },
  {
   "cell_type": "code",
   "execution_count": 289,
   "metadata": {
    "scrolled": true
   },
   "outputs": [
    {
     "data": {
      "text/plain": [
       "Tecmundo     1200\n",
       "Tecnoblog    1199\n",
       "Name: blog, dtype: int64"
      ]
     },
     "execution_count": 289,
     "metadata": {},
     "output_type": "execute_result"
    }
   ],
   "source": [
    "# número de postagens em cada blog\n",
    "df['blog'].value_counts()"
   ]
  },
  {
   "cell_type": "markdown",
   "metadata": {},
   "source": [
    "Temos 1200 artigos do Tecmundo e 1199 artigos do Tecnoblog"
   ]
  },
  {
   "cell_type": "markdown",
   "metadata": {},
   "source": [
    "#### tag"
   ]
  },
  {
   "cell_type": "code",
   "execution_count": 311,
   "metadata": {},
   "outputs": [],
   "source": [
    "from collections import Counter"
   ]
  },
  {
   "cell_type": "code",
   "execution_count": 309,
   "metadata": {},
   "outputs": [
    {
     "data": {
      "text/plain": [
       "['AirPods', 'Apple', 'Apple AirPods', 'Apple AirPods Pro']"
      ]
     },
     "execution_count": 309,
     "metadata": {},
     "output_type": "execute_result"
    }
   ],
   "source": [
    "df.loc[3, 'tag']"
   ]
  },
  {
   "cell_type": "code",
   "execution_count": 316,
   "metadata": {},
   "outputs": [
    {
     "data": {
      "text/plain": [
       "dict_keys(['AirPods', 'Apple', 'Apple AirPods', 'Apple AirPods Pro'])"
      ]
     },
     "execution_count": 316,
     "metadata": {},
     "output_type": "execute_result"
    }
   ],
   "source": [
    "Counter(df.loc[3, 'tag']).keys()"
   ]
  },
  {
   "cell_type": "code",
   "execution_count": null,
   "metadata": {},
   "outputs": [],
   "source": []
  }
 ],
 "metadata": {
  "kernelspec": {
   "display_name": "Python 3",
   "language": "python",
   "name": "python3"
  },
  "language_info": {
   "codemirror_mode": {
    "name": "ipython",
    "version": 3
   },
   "file_extension": ".py",
   "mimetype": "text/x-python",
   "name": "python",
   "nbconvert_exporter": "python",
   "pygments_lexer": "ipython3",
   "version": "3.7.3"
  }
 },
 "nbformat": 4,
 "nbformat_minor": 2
}
